{
  "nbformat": 4,
  "nbformat_minor": 0,
  "metadata": {
    "colab": {
      "name": "AG1-Víctor_Cebrián.ipynb",
      "version": "0.3.2",
      "provenance": [],
      "collapsed_sections": [],
      "include_colab_link": true
    },
    "kernelspec": {
      "name": "python3",
      "display_name": "Python 3"
    }
  },
  "cells": [
    {
      "cell_type": "markdown",
      "metadata": {
        "id": "view-in-github",
        "colab_type": "text"
      },
      "source": [
        "<a href=\"https://colab.research.google.com/github/vcebrian/03MAIR---Algoritmos-de-optimizacion/blob/master/AG1/AG1_V%C3%ADctor_Cebri%C3%A1n.ipynb\" target=\"_parent\"><img src=\"https://colab.research.google.com/assets/colab-badge.svg\" alt=\"Open In Colab\"/></a>"
      ]
    },
    {
      "metadata": {
        "id": "ZIZJ6KLls1n5",
        "colab_type": "text"
      },
      "cell_type": "markdown",
      "source": [
        "AG - Actividad guiada 1<br>\n",
        "Víctor Cebrián<br>\n",
        "\n",
        "URL Git: https://github.com/vcebrian/03MAIR---Algoritmos-de-optimizacion/tree/master/AG1"
      ]
    },
    {
      "metadata": {
        "id": "Wj2T_7fQ7yDo",
        "colab_type": "code",
        "colab": {}
      },
      "cell_type": "code",
      "source": [
        "#Decorador para calcular tiempos de ejecución\n",
        "from time import time\n",
        "\n",
        "#Función para calcular el tiempo de ejecución\n",
        "def calcular_tiempo(f):\n",
        "    def wrapper(*args, **kwargs):        \n",
        "        inicio = time()       \n",
        "        resultado = f(*args, **kwargs)       \n",
        "        tiempo = time() - inicio\n",
        "        print(\"Tiempo de ejecución para algoritmo: \"+str(tiempo))\n",
        "        return resultado\n",
        "    \n",
        "    return wrapper"
      ],
      "execution_count": 0,
      "outputs": []
    },
    {
      "metadata": {
        "id": "1mnWGIqivVft",
        "colab_type": "code",
        "colab": {
          "base_uri": "https://localhost:8080/",
          "height": 51
        },
        "outputId": "345e82ce-865c-443c-e7cd-b68d3bb5ebbb"
      },
      "cell_type": "code",
      "source": [
        "#Algoritmo con la técnica divide y venceras - Quick sort\n",
        "A = [9187, 244, 4054, 9222, 8373, 4993, 5265, 5470, 4519, 7182, 2035, 3506, 4337, 7580, 2554, 2824, 8357, 4447, 7379]\n",
        "\n",
        "def quick_sort(A):\n",
        "  if len(A) == 1:\n",
        "    return A\n",
        "  elif len(A) == 2:\n",
        "    return [min(A), max(A)]\n",
        " \n",
        "  pivote = (min(A) + max(A))/2\n",
        "  Izq=[]\n",
        "  Der=[]\n",
        "  \n",
        "  for i in A:\n",
        "    if i<pivote:\n",
        "      Izq.append(i)\n",
        "    else:\n",
        "      Der.append(i)\n",
        "  \n",
        "  return quick_sort(Izq) + quick_sort(Der)\n",
        "      \n",
        "quick_sort(A)\n",
        "\n",
        "@calcular_tiempo\n",
        "def QS(A):\n",
        "  return quick_sort(A)\n",
        "\n",
        "print(QS(A))"
      ],
      "execution_count": 67,
      "outputs": [
        {
          "output_type": "stream",
          "text": [
            "Tiempo de ejecución para algoritmo: 4.220008850097656e-05\n",
            "[244, 2035, 2554, 2824, 3506, 4054, 4337, 4447, 4519, 4993, 5265, 5470, 7182, 7379, 7580, 8357, 8373, 9187, 9222]\n"
          ],
          "name": "stdout"
        }
      ]
    },
    {
      "metadata": {
        "id": "3oE4ZKrR-DWE",
        "colab_type": "code",
        "colab": {
          "base_uri": "https://localhost:8080/",
          "height": 51
        },
        "outputId": "a0e3352f-ee01-4485-a1ab-f0e84aa00136"
      },
      "cell_type": "code",
      "source": [
        "#Algoritmo voraz - Calculo cambio monedas\n",
        "SISTEMA = [25,10,5,1]\n",
        "\n",
        "@calcular_tiempo\n",
        "def cambio_monedas(C, SISTEMA):\n",
        "  SOLUCION = [0 for i in range(len(SISTEMA))]\n",
        "  VALOR_ACUMULADO = 0\n",
        "  \n",
        "  for i in range(len(SISTEMA)):\n",
        "    monedas = int((C-VALOR_ACUMULADO)/SISTEMA[i])  \n",
        "    SOLUCION[i] = monedas\n",
        "    VALOR_ACUMULADO += monedas*SISTEMA[i]\n",
        "    if C==VALOR_ACUMULADO:\n",
        "      return SOLUCION\n",
        "  \n",
        "cambio_monedas(99, SISTEMA)"
      ],
      "execution_count": 38,
      "outputs": [
        {
          "output_type": "stream",
          "text": [
            "Tiempo de ejecución para algoritmo: 8.58306884765625e-06\n"
          ],
          "name": "stdout"
        },
        {
          "output_type": "execute_result",
          "data": {
            "text/plain": [
              "[3, 2, 0, 4]"
            ]
          },
          "metadata": {
            "tags": []
          },
          "execution_count": 38
        }
      ]
    },
    {
      "metadata": {
        "id": "I3-YHbzSDgYW",
        "colab_type": "code",
        "colab": {
          "base_uri": "https://localhost:8080/",
          "height": 306
        },
        "outputId": "34da66a9-7282-4e56-f550-5201f0b0e91f"
      },
      "cell_type": "code",
      "source": [
        "#Algoritmo con la técnica vuelta atrás - Reinas\n",
        "\n",
        "def es_prometedora(solucion, etapa):\n",
        "  for i in range(etapa+1):\n",
        "    if solucion.count(solucion[i]) > 1:\n",
        "      return False\n",
        "    \n",
        "    #verifica diagonales\n",
        "    for j in range(i+1, etapa+1):\n",
        "      if abs(i-j) == abs(solucion[i]-solucion[j]):\n",
        "        return False\n",
        "    \n",
        "  return True\n",
        "\n",
        "def escribe(S):\n",
        "  n = len(S)\n",
        "  for x in range(n):\n",
        "    print(\"\")\n",
        "    for i in range(n):\n",
        "      if S[i] == x+1:\n",
        "        print(\" X \", end=\"\")\n",
        "      else:\n",
        "        print(\" . \", end=\"\")\n",
        "        \n",
        "def reinas(N, solucion, etapa):\n",
        "  \n",
        "  for i in range(1,N+1):\n",
        "    solucion[etapa] = i\n",
        "    \n",
        "    if es_prometedora(solucion, etapa):\n",
        "      if etapa == N-1:\n",
        "        print(\"\\n\\nLa solución es: \")\n",
        "        print(solucion)\n",
        "        escribe(solucion)\n",
        "      else:\n",
        "        reinas(N, solucion, etapa+1)\n",
        "    else:\n",
        "      None\n",
        "\n",
        "    solucion[etapa] = 0\n",
        "    \n",
        "N=4\n",
        "SOLUCION = [0 for i in range(N)]\n",
        "\n",
        "reinas(N, SOLUCION, 0)\n"
      ],
      "execution_count": 68,
      "outputs": [
        {
          "output_type": "stream",
          "text": [
            "\n",
            "\n",
            "La solución es: \n",
            "[2, 4, 1, 3]\n",
            "\n",
            " .  .  X  . \n",
            " X  .  .  . \n",
            " .  .  .  X \n",
            " .  X  .  . \n",
            "\n",
            "La solución es: \n",
            "[3, 1, 4, 2]\n",
            "\n",
            " .  X  .  . \n",
            " .  .  .  X \n",
            " X  .  .  . \n",
            " .  .  X  . "
          ],
          "name": "stdout"
        }
      ]
    }
  ]
}