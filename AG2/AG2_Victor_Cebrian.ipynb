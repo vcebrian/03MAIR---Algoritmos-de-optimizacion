{
  "nbformat": 4,
  "nbformat_minor": 0,
  "metadata": {
    "colab": {
      "name": "AG2-Victor_Cebrian.ipynb",
      "version": "0.3.2",
      "provenance": [],
      "collapsed_sections": [],
      "include_colab_link": true
    },
    "kernelspec": {
      "name": "python3",
      "display_name": "Python 3"
    }
  },
  "cells": [
    {
      "cell_type": "markdown",
      "metadata": {
        "id": "view-in-github",
        "colab_type": "text"
      },
      "source": [
        "<a href=\"https://colab.research.google.com/github/vcebrian/03MAIR---Algoritmos-de-optimizacion/blob/master/AG2/AG2_Victor_Cebrian.ipynb\" target=\"_parent\"><img src=\"https://colab.research.google.com/assets/colab-badge.svg\" alt=\"Open In Colab\"/></a>"
      ]
    },
    {
      "metadata": {
        "id": "29ZG9JfuDvoe",
        "colab_type": "text"
      },
      "cell_type": "markdown",
      "source": [
        "AG - Actividad guiada 1<br>\n",
        "Víctor Cebrián<br>\n",
        "\n",
        "URL Git: https://github.com/vcebrian/03MAIR---Algoritmos-de-optimizacion/tree/master/AG2"
      ]
    },
    {
      "metadata": {
        "id": "BM1ef_prJRqx",
        "colab_type": "code",
        "colab": {}
      },
      "cell_type": "code",
      "source": [
        "#Decorador para calcular tiempos de ejecución\n",
        "from time import time\n",
        "\n",
        "#Función para calcular el tiempo de ejecución\n",
        "def calcular_tiempo(f):\n",
        "    def wrapper(*args, **kwargs):        \n",
        "        inicio = time()       \n",
        "        resultado = f(*args, **kwargs)       \n",
        "        tiempo = time() - inicio\n",
        "        print(\"Tiempo de ejecución para algoritmo: \"+str(tiempo))\n",
        "        return resultado\n",
        "    \n",
        "    return wrapper"
      ],
      "execution_count": 0,
      "outputs": []
    },
    {
      "metadata": {
        "id": "EIMYhqKTD8Kt",
        "colab_type": "code",
        "colab": {}
      },
      "cell_type": "code",
      "source": [
        "import math\n",
        "import random\n",
        "\n",
        "def distancia(A,B):\n",
        "  if type(A) is int or type(A) is float:\n",
        "    return abs(A-B)\n",
        "  else:\n",
        "    return math.sqrt(sum( [(A[i]-B[i])**2 for i in range(len(A))] ))\n",
        "    \n"
      ],
      "execution_count": 0,
      "outputs": []
    },
    {
      "metadata": {
        "id": "AiZWPWhOITH3",
        "colab_type": "code",
        "colab": {}
      },
      "cell_type": "code",
      "source": [
        "N=3000\n",
        "\n",
        "LISTA_2D = [(random.randrange(1,N*10),random.randrange(1,N*10)) for _ in range(N)]\n"
      ],
      "execution_count": 0,
      "outputs": []
    },
    {
      "metadata": {
        "id": "VrUKHAjLGhX7",
        "colab_type": "code",
        "outputId": "1d563ff2-2a54-439d-fe1e-14912f544248",
        "colab": {
          "base_uri": "https://localhost:8080/",
          "height": 34
        }
      },
      "cell_type": "code",
      "source": [
        "#Puntos más cercanos por fuerza bruta\n",
        "def distancia_fuerza_bruta(A):\n",
        "  solucion = [A[0],A[1]]\n",
        "  distancia_a_mejorar = distancia(solucion[0],solucion[1])\n",
        "  for i in range(len(A)):\n",
        "    for j in range(i+1, len(A)):\n",
        "        if distancia(A[i],A[j])<distancia_a_mejorar:\n",
        "          solucion = [A[i],A[j]] \n",
        "          distancia_a_mejorar = distancia(solucion[0],solucion[1])\n",
        "          \n",
        "  return solucion\n",
        "\n",
        "distancia_fuerza_bruta(LISTA_2D)"
      ],
      "execution_count": 0,
      "outputs": [
        {
          "output_type": "execute_result",
          "data": {
            "text/plain": [
              "[(3359, 8194), (3357, 8199)]"
            ]
          },
          "metadata": {
            "tags": []
          },
          "execution_count": 152
        }
      ]
    },
    {
      "metadata": {
        "id": "170_rlH7s26-",
        "colab_type": "code",
        "outputId": "904b68f0-08fc-4882-9d36-b6ff2635c9e1",
        "colab": {
          "base_uri": "https://localhost:8080/",
          "height": 51
        }
      },
      "cell_type": "code",
      "source": [
        "@calcular_tiempo\n",
        "def lanza(L):\n",
        "  print(distancia_fuerza_bruta(L))\n",
        "  \n",
        "lanza(LISTA_2D)"
      ],
      "execution_count": 0,
      "outputs": [
        {
          "output_type": "stream",
          "text": [
            "[(3359, 8194), (3357, 8199)]\n",
            "Tiempo de ejecución para algoritmo: 9.327916860580444\n"
          ],
          "name": "stdout"
        }
      ]
    },
    {
      "metadata": {
        "id": "ZGbaGCeBIhnF",
        "colab_type": "code",
        "colab": {}
      },
      "cell_type": "code",
      "source": [
        "def distancia_divide_y_venceras(A):\n",
        "  #con pocos elementos, aplico fuerza bruta\n",
        "  if len(A)<10:\n",
        "    return distancia_fuerza_bruta(A)\n",
        "\n",
        "  #Dividimos en listas grandes\n",
        "  \n",
        "  LISTA_IZQ = sorted(A, key=lambda x: x[0])[:len(A)//2]\n",
        "  LISTA_DER = sorted(A, key=lambda x: x[0])[len(A)//2:]\n",
        "  \n",
        "  PUNTOS_LISTA_IZQ = distancia_divide_y_venceras(LISTA_IZQ)\n",
        "  PUNTOS_LISTA_DER = distancia_divide_y_venceras(LISTA_DER)\n",
        "  \n",
        "  return distancia_divide_y_venceras(PUNTOS_LISTA_IZQ+PUNTOS_LISTA_DER)\n",
        "  \n"
      ],
      "execution_count": 0,
      "outputs": []
    },
    {
      "metadata": {
        "id": "fc_J4ZvosjW6",
        "colab_type": "code",
        "outputId": "09aa372d-5cb7-4c0e-cc8d-b057148b9cdc",
        "colab": {
          "base_uri": "https://localhost:8080/",
          "height": 51
        }
      },
      "cell_type": "code",
      "source": [
        "@calcular_tiempo\n",
        "def lanza(L):\n",
        "  print(distancia_divide_y_venceras(L))\n",
        "  \n",
        "lanza(LISTA_2D)"
      ],
      "execution_count": 0,
      "outputs": [
        {
          "output_type": "stream",
          "text": [
            "[(3357, 8199), (3359, 8194)]\n",
            "Tiempo de ejecución para algoritmo: 0.04680943489074707\n"
          ],
          "name": "stdout"
        }
      ]
    },
    {
      "metadata": {
        "id": "56fmd7EW04Re",
        "colab_type": "code",
        "outputId": "a0df1968-fd88-4616-e2db-0e8c5201ceb1",
        "colab": {
          "base_uri": "https://localhost:8080/",
          "height": 88
        }
      },
      "cell_type": "code",
      "source": [
        "TARIFAS = [\n",
        "[0,5,4,3,999,999,999],\n",
        "[999,0,999,2,3,999,11],\n",
        "[999,999, 0,1,999,4,10],\n",
        "[999,999,999, 0,5,6,9],\n",
        "[999,999, 999,999,0,999,4],\n",
        "[999,999, 999,999,999,0,3],\n",
        "[999,999,999,999,999,999,0]\n",
        "]\n",
        "\n",
        "#Paseo por el rio\n",
        "\n",
        "def Precios(TARIFAS):\n",
        "  N = len(TARIFAS[0])\n",
        "  PRECIOS = [[9999]*N for i in [9999]*N]\n",
        "  RUTA = [[\"\"]*N for i in [\"\"]*N]\n",
        "  \n",
        "  for i in range(N-1):\n",
        "    for j in range(i+1,N):\n",
        "      MIN = TARIFAS[i][j]\n",
        "      RUTA[i][j] = i\n",
        "      \n",
        "      for k in range(i,j):\n",
        "        if PRECIOS[i][k]+TARIFAS[k][j] < MIN:\n",
        "          MIN = min(PRECIOS[i][k]+TARIFAS[k][j], MIN)\n",
        "          RUTA[i][j] = k\n",
        "      \n",
        "      PRECIOS[i][j] = MIN\n",
        "   \n",
        "  return PRECIOS, RUTA \n",
        "          \n",
        "  \n",
        "PRECIOS, RUTAS = Precios(TARIFAS)\n",
        "\n",
        "print(PRECIOS)\n",
        "print()\n",
        "print(RUTAS)\n"
      ],
      "execution_count": 0,
      "outputs": [
        {
          "output_type": "stream",
          "text": [
            "[[9999, 5, 4, 3, 8, 8, 11], [9999, 9999, 999, 2, 3, 8, 7], [9999, 9999, 9999, 1, 6, 4, 7], [9999, 9999, 9999, 9999, 5, 6, 9], [9999, 9999, 9999, 9999, 9999, 999, 4], [9999, 9999, 9999, 9999, 9999, 9999, 3], [9999, 9999, 9999, 9999, 9999, 9999, 9999]]\n",
            "\n",
            "[['', 0, 0, 0, 1, 2, 5], ['', '', 1, 1, 1, 3, 4], ['', '', '', 2, 3, 2, 5], ['', '', '', '', 3, 3, 3], ['', '', '', '', '', 4, 4], ['', '', '', '', '', '', 5], ['', '', '', '', '', '', '']]\n"
          ],
          "name": "stdout"
        }
      ]
    },
    {
      "metadata": {
        "id": "DAdHL4VY5ud7",
        "colab_type": "code",
        "outputId": "0a97601b-0189-47a9-a487-28a836e9cdcd",
        "colab": {
          "base_uri": "https://localhost:8080/",
          "height": 68
        }
      },
      "cell_type": "code",
      "source": [
        "def calcular_ruta(RUTAS, desde, hasta):\n",
        "  if desde == hasta:\n",
        "    return desde\n",
        "  else:\n",
        "    return str(calcular_ruta(RUTAS,desde,RUTAS[desde][hasta])) + ',' + str (RUTAS[desde][hasta])\n",
        "  \n",
        "print(\"\\nLa ruta es:\")\n",
        "calcular_ruta(RUTAS,0,6)"
      ],
      "execution_count": 0,
      "outputs": [
        {
          "output_type": "stream",
          "text": [
            "\n",
            "La ruta es:\n"
          ],
          "name": "stdout"
        },
        {
          "output_type": "execute_result",
          "data": {
            "text/plain": [
              "'0,0,2,5'"
            ]
          },
          "metadata": {
            "tags": []
          },
          "execution_count": 130
        }
      ]
    }
  ]
}