{
  "nbformat": 4,
  "nbformat_minor": 0,
  "metadata": {
    "colab": {
      "name": "Examen.ipynb",
      "version": "0.3.2",
      "provenance": [],
      "include_colab_link": true
    },
    "kernelspec": {
      "name": "python3",
      "display_name": "Python 3"
    }
  },
  "cells": [
    {
      "cell_type": "markdown",
      "metadata": {
        "id": "view-in-github",
        "colab_type": "text"
      },
      "source": [
        "<a href=\"https://colab.research.google.com/github/vcebrian/03MAIR---Algoritmos-de-optimizacion/blob/master/%5CExamen%5CExamen.ipynb\" target=\"_parent\"><img src=\"https://colab.research.google.com/assets/colab-badge.svg\" alt=\"Open In Colab\"/></a>"
      ]
    },
    {
      "metadata": {
        "id": "krutnblnUQWj",
        "colab_type": "code",
        "colab": {
          "base_uri": "https://localhost:8080/",
          "height": 35
        },
        "outputId": "fa27337e-eaff-4313-dcd9-154a2c678d6e"
      },
      "cell_type": "code",
      "source": [
        "c = [(1,3),(4,7),(12,5),(10,6),(3,7),(9,6),(1,2),(5,6),(7,8)]\n",
        "\n",
        "def esquina_superior(C):\n",
        "    \n",
        "    Solucion=[]\n",
        "     \n",
        "    for i in range(len(C)):  \n",
        "      #inicializo esquina a valor imposible\n",
        "      x_sup = -1\n",
        "      y_sup = -1\n",
        "      for j in range(i+1,len(C)):\n",
        "        #Si se cumple la condicion de punto esquina guardo las coordenadas\n",
        "        if (C[j][0]>x_sup) and (C[j][1]>C[i][1]):\n",
        "            x_sup = C[j][0]        \n",
        "            y_sup = C[j][1]\n",
        "      \n",
        "      #Si se ha encontrado una esquina y no está ya en la solución la añado    \n",
        "      if x_sup!=-1 and y_sup!=-1 and ((x_sup,y_sup) not in Solucion):\n",
        "        Solucion.append((x_sup,y_sup))\n",
        "      \n",
        "\n",
        "    return Solucion\n",
        "    \n",
        "esquina_superior(c)\n",
        "        \n",
        "    \n",
        "  "
      ],
      "execution_count": 75,
      "outputs": [
        {
          "output_type": "execute_result",
          "data": {
            "text/plain": [
              "[(12, 5), (7, 8), (10, 6)]"
            ]
          },
          "metadata": {
            "tags": []
          },
          "execution_count": 75
        }
      ]
    },
    {
      "metadata": {
        "id": "YeDkQNTXwzuK",
        "colab_type": "code",
        "colab": {}
      },
      "cell_type": "code",
      "source": [
        "#Problemos con un conjunto aletorio\n",
        "import math\n",
        "import random\n",
        "\n",
        "x=100\n",
        "puntos = [(i,random.randrange(1,x-i+1)) for i in range(x)]\n",
        "\n",
        "sol = esquina_superior(puntos)"
      ],
      "execution_count": 0,
      "outputs": []
    },
    {
      "metadata": {
        "id": "hCbCNAlXyZGj",
        "colab_type": "code",
        "colab": {
          "base_uri": "https://localhost:8080/",
          "height": 351
        },
        "outputId": "dbc6fe97-6d82-4b39-9538-a0e0212b94e1"
      },
      "cell_type": "code",
      "source": [
        "#los dibujamos para comprobar\n",
        "\n",
        "import numpy as np\n",
        "import matplotlib.pyplot as plt\n",
        "   \n",
        "xPuntos = [p[0] for p in puntos]\n",
        "yPuntos = [p[1] for p in puntos]\n",
        "\n",
        "xEsquina = [p[0] for p in sol]\n",
        "yEsquina = [p[1] for p in sol]\n",
        "\n",
        "plt.plot(xPuntos, yPuntos, 'ro')\n",
        "plt.plot(xEsquina, yEsquina, 'bo')\n",
        "plt.axis([0, 100, 0, 100])\n",
        "plt.show()\n",
        "\n",
        "#Vemos en la gráfica los puntos esquina en color azul\n"
      ],
      "execution_count": 82,
      "outputs": [
        {
          "output_type": "display_data",
          "data": {
            "image/png": "[encoded data removed]",
            "text/plain": [
              "<Figure size 576x396 with 1 Axes>"
            ]
          },
          "metadata": {
            "tags": []
          }
        }
      ]
    }
  ]
}