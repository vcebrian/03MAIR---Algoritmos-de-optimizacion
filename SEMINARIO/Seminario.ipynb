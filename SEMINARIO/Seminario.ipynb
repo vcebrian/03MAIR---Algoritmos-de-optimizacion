{
  "nbformat": 4,
  "nbformat_minor": 0,
  "metadata": {
    "colab": {
      "name": "Seminario.ipynb",
      "version": "0.3.2",
      "provenance": [],
      "collapsed_sections": [],
      "include_colab_link": true
    },
    "kernelspec": {
      "name": "python3",
      "display_name": "Python 3"
    }
  },
  "cells": [
    {
      "cell_type": "markdown",
      "metadata": {
        "id": "view-in-github",
        "colab_type": "text"
      },
      "source": [
        "<a href=\"https://colab.research.google.com/github/vcebrian/03MAIR---Algoritmos-de-optimizacion/blob/master/SEMINARIO/Seminario.ipynb\" target=\"_parent\"><img src=\"https://colab.research.google.com/assets/colab-badge.svg\" alt=\"Open In Colab\"/></a>"
      ]
    },
    {
      "metadata": {
        "id": "TdBD_5Hj9qOh",
        "colab_type": "text"
      },
      "cell_type": "markdown",
      "source": [
        "# Algoritmos de optimización - Semintario\n",
        "\n",
        "Nombre y Apellidos: Víctor Cebrián Roselló<br>\n",
        "Url: https://github.com/vcebrian/03MAIR---Algoritmos-de-optimizacion/tree/master/SEMINARIO<br>\n",
        "<br>\n",
        "Problema: \n",
        "      \n",
        "      3. Combinar cifras y operaciones\n",
        "\n",
        "Descripción del problema: Disponemos de las 9 cifras del 1 al 9 (excluimos el cero) y de los cuatro signos básicos de las operaciones fundamentales: suma(+), resta(-), multiplicación(*) y division(/). Debemos combinarlos alternativamente sin repetir ninguno de ellos para obtener una cantidad dada.\n",
        "\n"
      ]
    },
    {
      "metadata": {
        "id": "ON38IwPg_Fv-",
        "colab_type": "text"
      },
      "cell_type": "markdown",
      "source": [
        "# Preguntas\n",
        "\n",
        "**¿Cuantas posibilidades hay sin tener en cuenta las restricciones?**\n",
        "\n",
        "Si no tuvieramos en cuenta las restricciones y pudieramos repetir cualquier dígito y cualquier operador en cada combinación el número de conbinaciones posibles sería:\n",
        "\n",
        "      9^5 * 4^4 = 15.116.544 combinaciones."
      ]
    },
    {
      "metadata": {
        "id": "7JU0zs23AlD5",
        "colab_type": "text"
      },
      "cell_type": "markdown",
      "source": [
        "**¿Cuantas posibilidades hay teniendo en cuenta todas las restricciones?**\n",
        "\n",
        "En este caso no podemos repetir ni digitos ni operadores, por lo que para el primer digito tendremos 9 posibilidades, para el segundo 8, para el tercero 7, y asi sucesivemente. Para los operadores tendremos 4 posibilidades, luego 3, luegos 2 y finalmente solo una. De este modo, las posibles combinaciones son:\n",
        "\n",
        "    (9*8*7*6*5)*(4*3*2*1) = 362.880 combinaciones."
      ]
    },
    {
      "metadata": {
        "id": "ArSjSqwcBfla",
        "colab_type": "text"
      },
      "cell_type": "markdown",
      "source": [
        "**¿Cual es la estructura de datos que mejor se adapta al problema?**\n",
        "\n",
        "Podemos añadir los digitos a una lista y los operadores a otra, de esta forma podemos ir recorriendo las listas y creando sublistas con los digitos y operadores ya utilizados para así ir evaluando todas las posibles combinaciones."
      ]
    },
    {
      "metadata": {
        "id": "POfuZos7CV8R",
        "colab_type": "text"
      },
      "cell_type": "markdown",
      "source": [
        "**¿Cual es la función objetivo?**\n",
        "\n",
        "El objetivo es obtener el valor entero proporcionado a la función con una combinación de los digitos y operadores con las restricciones enunciadas."
      ]
    },
    {
      "metadata": {
        "id": "jvUEWVe4C1Dn",
        "colab_type": "text"
      },
      "cell_type": "markdown",
      "source": [
        "**¿Es un problema de maximización o minimización?**\n",
        "\n",
        "No se trata de un problema en el que haya que maxímizar o minimizar ninguna función, sino de encontrar una solución valida (si existe) de entre las posibles soluciones."
      ]
    },
    {
      "metadata": {
        "id": "dmQvdRUVCPVL",
        "colab_type": "text"
      },
      "cell_type": "markdown",
      "source": [
        "**Diseña un algoritmo para resolver el problema por fuerza bruta**"
      ]
    },
    {
      "metadata": {
        "id": "ytvxwv3vuNmu",
        "colab_type": "code",
        "colab": {}
      },
      "cell_type": "code",
      "source": [
        "#Decorador para calcular tiempos de ejecución\n",
        "from time import time\n",
        "\n",
        "#Función para calcular el tiempo de ejecución\n",
        "def calcular_tiempo(f):\n",
        "    def wrapper(*args, **kwargs):        \n",
        "        inicio = time()       \n",
        "        resultado = f(*args, **kwargs)       \n",
        "        tiempo = time() - inicio\n",
        "        print(\"Tiempo de ejecución para algoritmo: \"+str(tiempo))\n",
        "        return resultado\n",
        "    \n",
        "    return wrapper\n",
        "  \n"
      ],
      "execution_count": 0,
      "outputs": []
    },
    {
      "metadata": {
        "id": "6LE3rKuInYcG",
        "colab_type": "code",
        "outputId": "22cb578b-8eff-4450-84ef-45828f326eb9",
        "colab": {
          "base_uri": "https://localhost:8080/",
          "height": 85
        }
      },
      "cell_type": "code",
      "source": [
        "#Algoritmo de fuerza bruta\n",
        "@calcular_tiempo\n",
        "def combina_cifras_y_operaciones(valor):\n",
        "  #me creo listas con los operadores y dígitos\n",
        "  simbolos = ['*','+','-','/']\n",
        "  valores = [1,2,3,4,5,6,7,8,9]\n",
        "  \n",
        "  #Una serie de blucles anidados van recorriendo las listas y sublistas con los elementos ya seleccionados para evaluar la expresión\n",
        "  for d1 in valores:\n",
        "    for s1 in simbolos:\n",
        "      for d2 in [x for x in valores if x != d1]:\n",
        "        for s2 in [x for x in simbolos if x != s1]:\n",
        "          for d3 in [x for x in valores if x != d1 and x != d2]:\n",
        "            for s3 in [x for x in simbolos if x != s1 and x != s2]:\n",
        "               for d4 in [x for x in valores if x != d1 and x != d2 and x != d3]:\n",
        "                  for s4 in [x for x in simbolos if x != s1 and x != s2 and x != s3]:\n",
        "                    for d5 in [x for x in valores if x != d1 and x != d2 and x != d3 and x != d4]:\n",
        "                      #me creo cadena con la combinación de digitos y símbolos\n",
        "                      cadena = str(d1)+s1+str(d2)+s2+str(d3)+s3+str(d4)+s4+str(d5)\n",
        "                      #Evaluo la expresion y si es igual al valor de entreda se imprime y terminamos la ejecución\n",
        "                      if (eval(cadena)==valor):\n",
        "                        print(\"----Fuenza bruta----\")\n",
        "                        print(cadena,\"=\",str(valor))\n",
        "                        print(\"--------------------\")\n",
        "                        return\n",
        "  \n",
        "\n",
        "  #En caso de no haber encontrado ninguna solución se imprime que no hay solución\n",
        "  print(\"----Fuenza bruta----\")\n",
        "  print('No hay solucion para',str(valor))\n",
        "  print(\"--------------------\")\n",
        "\n",
        "\n",
        "\n",
        "combina_cifras_y_operaciones(34)"
      ],
      "execution_count": 0,
      "outputs": [
        {
          "output_type": "stream",
          "text": [
            "----Fuenza bruta----\n",
            "1+4*9-6/2 = 34\n",
            "--------------------\n",
            "Tiempo de ejecución para algoritmo: 0.12329292297363281\n"
          ],
          "name": "stdout"
        }
      ]
    },
    {
      "metadata": {
        "id": "6ZdiR5OAD_t5",
        "colab_type": "text"
      },
      "cell_type": "markdown",
      "source": [
        "**Calcula la complejidad del algoritmo por fuerza bruta**\n",
        "\n",
        "Si consideramos N el numero de digitos y consideramos los operadores siempres constantes, es decir 4. El número de operaciones elementales que se ralizan son:\n",
        "\n",
        "6 sumas + 1 asignación + 1 comparación. \n",
        "\n",
        "Orden = 7 x N x (N-1) x (N-2) x (N-3) x (N-4) x 4 x 3 x 2 x 1 \n",
        "\n",
        "Tendremos un orden polinomial.\n",
        "\n",
        "\n"
      ]
    },
    {
      "metadata": {
        "id": "JOJhJw8E5_cN",
        "colab_type": "text"
      },
      "cell_type": "markdown",
      "source": [
        "**Diseña un algoritmo que mejore la complejidad del algoritmo por fuerza bruta. Argumenta por que crees que es mejor que el algoritmo por fuerza bruta.**\n",
        "\n",
        "Voy a diseñar un algoritmo heuristico que de forma aleatoria busca posibles soluciones"
      ]
    },
    {
      "metadata": {
        "id": "21Uqjy_i1xgS",
        "colab_type": "code",
        "outputId": "24c45dbd-3580-414b-ec4f-675960327d66",
        "colab": {
          "base_uri": "https://localhost:8080/",
          "height": 35
        }
      },
      "cell_type": "code",
      "source": [
        "import random\n",
        "\n",
        "def solucion_aleatoria():\n",
        "  \n",
        "  simbolos = ['*','+','-','/']\n",
        "  valores = [1,2,3,4,5,6,7,8,9]\n",
        "  solucion = ''\n",
        "  \n",
        "  for i in range(9):\n",
        "    if i%2==0:\n",
        "      valor = valores[random.randint(0,len(valores)-1)]\n",
        "      solucion=solucion+str(valor)\n",
        "      valores.remove(valor)\n",
        "    else:\n",
        "      simbol = simbolos[random.randint(0,len(simbolos)-1)]\n",
        "      solucion=solucion+simbol\n",
        "      simbolos.remove(simbol)\n",
        "  \n",
        "  return solucion\n",
        "\n",
        "solucion_aleatoria()"
      ],
      "execution_count": 0,
      "outputs": [
        {
          "output_type": "execute_result",
          "data": {
            "text/plain": [
              "'7*4+8/1-3'"
            ]
          },
          "metadata": {
            "tags": []
          },
          "execution_count": 4
        }
      ]
    },
    {
      "metadata": {
        "id": "79yg1GJv44am",
        "colab_type": "code",
        "outputId": "26a3ddb8-df3b-4968-edbc-61d7a7884459",
        "colab": {
          "base_uri": "https://localhost:8080/",
          "height": 86
        }
      },
      "cell_type": "code",
      "source": [
        "@calcular_tiempo\n",
        "def busqueda_heuristica(N, valor):\n",
        "  for i in range(N):\n",
        "    sol = solucion_aleatoria()\n",
        "    if eval(sol)==valor:\n",
        "      print(\"----Heurístico----\")\n",
        "      print(sol,\"=\",str(valor))\n",
        "      print(\"--------------------\")\n",
        "      return\n",
        "  \n",
        "  print(\"----Heurístico----\")\n",
        "  print('Solucion no encontrada para',str(valor))\n",
        "  print(\"--------------------\")\n",
        "  \n",
        "  \n",
        "import timeit\n",
        "\n",
        "%timeit  \n",
        "busqueda_heuristica(1000,11)"
      ],
      "execution_count": 0,
      "outputs": [
        {
          "output_type": "stream",
          "text": [
            "----Heurístico----\n",
            "7+6-8*1/4 = 11\n",
            "--------------------\n",
            "Tiempo de ejecución para algoritmo: 0.00720977783203125\n"
          ],
          "name": "stdout"
        }
      ]
    },
    {
      "metadata": {
        "id": "bhZ3JvtWJvPf",
        "colab_type": "text"
      },
      "cell_type": "markdown",
      "source": [
        "**Calcula la complejidad del algoritmo**\n",
        "\n",
        "El algoritmo heuristico tiene una complejidad O(1), es decir, es independiente de N ya que por mas dígitos que tengamos las operaciones para calcular la solución aleatoria son las mismas."
      ]
    },
    {
      "metadata": {
        "id": "VxL1f8JYJ7Xx",
        "colab_type": "text"
      },
      "cell_type": "markdown",
      "source": [
        "**Según el problema, diseña un juego de datos de entrada aleatorios**\n",
        "\n",
        "Generaré 10 valores aleatorios para aplicarlos a cada uno de los algoritmos (fuerza bruta y heuristico) para comprobar la mejora aportada por el heurístico."
      ]
    },
    {
      "metadata": {
        "id": "2TC1UEqVKO-3",
        "colab_type": "code",
        "colab": {}
      },
      "cell_type": "code",
      "source": [
        "#vamos a generar un conjunto de datos de entrada y aplicar el algoritmo para comparar resultados\n",
        "valores = [(random.randrange(-100,100)) for _ in range(10)]"
      ],
      "execution_count": 0,
      "outputs": []
    },
    {
      "metadata": {
        "id": "wHfHwMzKKQkL",
        "colab_type": "text"
      },
      "cell_type": "markdown",
      "source": [
        "**Aplicar algoritmo a los datos generados**"
      ]
    },
    {
      "metadata": {
        "id": "D2FD1VZQEezL",
        "colab_type": "code",
        "outputId": "b98bd9b6-6ac9-4893-ffec-02d1d0b3bfdc",
        "colab": {
          "base_uri": "https://localhost:8080/",
          "height": 1399
        }
      },
      "cell_type": "code",
      "source": [
        "for i in valores:\n",
        "  combina_cifras_y_operaciones(i)\n",
        "  busqueda_heuristica(5000,i)\n",
        "\n"
      ],
      "execution_count": 0,
      "outputs": [
        {
          "output_type": "stream",
          "text": [
            "----Fuenza bruta----\n",
            "2+5-6*9/1 = -47\n",
            "--------------------\n",
            "Tiempo de ejecución para algoritmo: 0.5064129829406738\n",
            "----Heurístico----\n",
            "3/1+4-6*9 = -47\n",
            "--------------------\n",
            "Tiempo de ejecución para algoritmo: 0.011141538619995117\n",
            "----Fuenza bruta----\n",
            "No hay solucion para -100\n",
            "--------------------\n",
            "Tiempo de ejecución para algoritmo: 3.2911157608032227\n",
            "----Heurístico----\n",
            "Solucion no encontrada para -100\n",
            "--------------------\n",
            "Tiempo de ejecución para algoritmo: 0.14031434059143066\n",
            "----Fuenza bruta----\n",
            "1+7*8-6/2 = 54\n",
            "--------------------\n",
            "Tiempo de ejecución para algoritmo: 0.15699243545532227\n",
            "----Heurístico----\n",
            "8*7/1+2-4 = 54\n",
            "--------------------\n",
            "Tiempo de ejecución para algoritmo: 0.045009613037109375\n",
            "----Fuenza bruta----\n",
            "1*2+4-6/3 = 4\n",
            "--------------------\n",
            "Tiempo de ejecución para algoritmo: 0.0008981227874755859\n",
            "----Heurístico----\n",
            "2-1*9/3+5 = 4\n",
            "--------------------\n",
            "Tiempo de ejecución para algoritmo: 0.023300886154174805\n",
            "----Fuenza bruta----\n",
            "1+4*9-6/3 = 35\n",
            "--------------------\n",
            "Tiempo de ejecución para algoritmo: 0.11865520477294922\n",
            "----Heurístico----\n",
            "5*6-9/3+8 = 35\n",
            "--------------------\n",
            "Tiempo de ejecución para algoritmo: 0.022387981414794922\n",
            "----Fuenza bruta----\n",
            "1+9/3-6*7 = -38\n",
            "--------------------\n",
            "Tiempo de ejecución para algoritmo: 0.1832106113433838\n",
            "----Heurístico----\n",
            "Solucion no encontrada para -38\n",
            "--------------------\n",
            "Tiempo de ejecución para algoritmo: 0.14667010307312012\n",
            "----Fuenza bruta----\n",
            "No hay solucion para -79\n",
            "--------------------\n",
            "Tiempo de ejecución para algoritmo: 3.302333354949951\n",
            "----Heurístico----\n",
            "Solucion no encontrada para -79\n",
            "--------------------\n",
            "Tiempo de ejecución para algoritmo: 0.14523863792419434\n",
            "----Fuenza bruta----\n",
            "1+2*9-6/3 = 17\n",
            "--------------------\n",
            "Tiempo de ejecución para algoritmo: 0.10049891471862793\n",
            "----Heurístico----\n",
            "9/4*8-2+1 = 17\n",
            "--------------------\n",
            "Tiempo de ejecución para algoritmo: 0.0014672279357910156\n",
            "----Fuenza bruta----\n",
            "1*2+3-8/4 = 3\n",
            "--------------------\n",
            "Tiempo de ejecución para algoritmo: 0.0007131099700927734\n",
            "----Heurístico----\n",
            "8/4-1*6+7 = 3\n",
            "--------------------\n",
            "Tiempo de ejecución para algoritmo: 0.007016658782958984\n",
            "----Fuenza bruta----\n",
            "No hay solucion para -86\n",
            "--------------------\n",
            "Tiempo de ejecución para algoritmo: 3.2873077392578125\n",
            "----Heurístico----\n",
            "Solucion no encontrada para -86\n",
            "--------------------\n",
            "Tiempo de ejecución para algoritmo: 0.1416318416595459\n"
          ],
          "name": "stdout"
        }
      ]
    },
    {
      "metadata": {
        "id": "AgH-2BEpKxYu",
        "colab_type": "text"
      },
      "cell_type": "markdown",
      "source": [
        "Podemos ver que el algoritmo Euristico con valores de N apropiados encuentra una solución con tiempos considerablemente mejores que el algoritmo for fuerza bruta."
      ]
    },
    {
      "metadata": {
        "id": "rzRwmPIWLi7y",
        "colab_type": "text"
      },
      "cell_type": "markdown",
      "source": [
        "**Describe brevemente las lineas de como crees que es posible avanar en el estudio del problema. Ten en cuenta posibles variaciones del problema y/o variaciones al laza del tamaño**.\n",
        "\n",
        "Es posible incrementar la complejidad del problema añadiendo mayor numero de digitos en el conjunto de entrada, en lugar de 1 a 9 podemos incrementar el problema por ejemplo con cifrás de 1 a 19 o incluso mayores.\n",
        "\n",
        "Además tambien es posible hacerlo modificando las restricciones en cuanto a repeticiones de dígitos y operadores.\n",
        "\n",
        "En ambos casos las posibles combinaciones se incrementan y el algoritmo por fuerza bruta puede ser inviable debido al gran número de combinaciones posibles.\n",
        "\n"
      ]
    }
  ]
}